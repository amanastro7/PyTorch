{
  "nbformat": 4,
  "nbformat_minor": 0,
  "metadata": {
    "colab": {
      "provenance": [],
      "collapsed_sections": []
    },
    "kernelspec": {
      "name": "python3",
      "display_name": "Python 3"
    },
    "language_info": {
      "name": "python"
    }
  },
  "cells": [
    {
      "cell_type": "markdown",
      "source": [
        "# PYTORCH FUNDAMENTALS - GETTING STARTED 🚀"
      ],
      "metadata": {
        "id": "iITs_tzdxB7b"
      }
    },
    {
      "cell_type": "markdown",
      "source": [
        "![pytorch_logo_icon_169823.png](data:image/png;base64,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)"
      ],
      "metadata": {
        "id": "lQBkzWRbJ2gx"
      }
    },
    {
      "cell_type": "code",
      "execution_count": null,
      "metadata": {
        "id": "i-aFE4mprVpx",
        "colab": {
          "base_uri": "https://localhost:8080/"
        },
        "outputId": "6653f8a0-84cf-4b14-f819-1026d73a2a03"
      },
      "outputs": [
        {
          "output_type": "stream",
          "name": "stdout",
          "text": [
            "1.12.1+cu113\n"
          ]
        }
      ],
      "source": [
        "import torch\n",
        "print(torch.__version__)"
      ]
    },
    {
      "cell_type": "code",
      "source": [
        "import numpy as np\n",
        "import pandas as pd\n",
        "import matplotlib.pyplot as plt"
      ],
      "metadata": {
        "id": "OqeKPbaWxACO"
      },
      "execution_count": null,
      "outputs": []
    },
    {
      "cell_type": "markdown",
      "source": [
        "## INTRODUCTION TO TENSORS"
      ],
      "metadata": {
        "id": "OSzALgamxXNo"
      }
    },
    {
      "cell_type": "markdown",
      "source": [
        "### CREATING TENSORS"
      ],
      "metadata": {
        "id": "af7tuzSB0qvw"
      }
    },
    {
      "cell_type": "markdown",
      "source": [
        "**SCALAR**"
      ],
      "metadata": {
        "id": "dtRuM_LVyFj0"
      }
    },
    {
      "cell_type": "code",
      "source": [
        "scalar = torch.tensor(7)\n",
        "scalar"
      ],
      "metadata": {
        "colab": {
          "base_uri": "https://localhost:8080/"
        },
        "id": "Ikx9JkrayC5x",
        "outputId": "266c3e8c-306c-462a-d70e-7688fb66d73d"
      },
      "execution_count": null,
      "outputs": [
        {
          "output_type": "execute_result",
          "data": {
            "text/plain": [
              "tensor(7)"
            ]
          },
          "metadata": {},
          "execution_count": 3
        }
      ]
    },
    {
      "cell_type": "code",
      "source": [
        "scalar.ndim"
      ],
      "metadata": {
        "colab": {
          "base_uri": "https://localhost:8080/"
        },
        "id": "_HyyzHcdyNWd",
        "outputId": "3a48df38-7bbd-43f1-9abf-76fec16c4736"
      },
      "execution_count": null,
      "outputs": [
        {
          "output_type": "execute_result",
          "data": {
            "text/plain": [
              "0"
            ]
          },
          "metadata": {},
          "execution_count": 4
        }
      ]
    },
    {
      "cell_type": "code",
      "source": [
        "scalar.item()"
      ],
      "metadata": {
        "colab": {
          "base_uri": "https://localhost:8080/"
        },
        "id": "BRtAK1DayiEQ",
        "outputId": "128a6d1f-b262-40c8-f3ee-e0e83da07c6f"
      },
      "execution_count": null,
      "outputs": [
        {
          "output_type": "execute_result",
          "data": {
            "text/plain": [
              "7"
            ]
          },
          "metadata": {},
          "execution_count": 5
        }
      ]
    },
    {
      "cell_type": "markdown",
      "source": [
        "**VECTOR**"
      ],
      "metadata": {
        "id": "eUkT5jJwyyC1"
      }
    },
    {
      "cell_type": "code",
      "source": [
        "vector = torch.tensor([7, 7])\n",
        "vector"
      ],
      "metadata": {
        "colab": {
          "base_uri": "https://localhost:8080/"
        },
        "id": "sbBcW8rIy159",
        "outputId": "1d54ffd0-b114-421d-a32a-da91b529ecf9"
      },
      "execution_count": null,
      "outputs": [
        {
          "output_type": "execute_result",
          "data": {
            "text/plain": [
              "tensor([7, 7])"
            ]
          },
          "metadata": {},
          "execution_count": 6
        }
      ]
    },
    {
      "cell_type": "code",
      "source": [
        "vector.ndim"
      ],
      "metadata": {
        "colab": {
          "base_uri": "https://localhost:8080/"
        },
        "id": "AXRaqTWFy7Q5",
        "outputId": "63f2fedf-5301-4821-facf-26951154c683"
      },
      "execution_count": null,
      "outputs": [
        {
          "output_type": "execute_result",
          "data": {
            "text/plain": [
              "1"
            ]
          },
          "metadata": {},
          "execution_count": 7
        }
      ]
    },
    {
      "cell_type": "code",
      "source": [
        "vector.shape"
      ],
      "metadata": {
        "colab": {
          "base_uri": "https://localhost:8080/"
        },
        "id": "-33A199fzMWm",
        "outputId": "d8f3f7d9-787c-45bc-ceac-ab270dd9ff34"
      },
      "execution_count": null,
      "outputs": [
        {
          "output_type": "execute_result",
          "data": {
            "text/plain": [
              "torch.Size([2])"
            ]
          },
          "metadata": {},
          "execution_count": 8
        }
      ]
    },
    {
      "cell_type": "markdown",
      "source": [
        "**MATRIX**"
      ],
      "metadata": {
        "id": "y4s3vPgOzNpp"
      }
    },
    {
      "cell_type": "code",
      "source": [
        "MATRIX = torch.tensor([[7, 17],\n",
        "                       [27, 77]])\n",
        "MATRIX"
      ],
      "metadata": {
        "colab": {
          "base_uri": "https://localhost:8080/"
        },
        "id": "EAfqC5WHzRNI",
        "outputId": "726e5f4d-634e-4270-d32a-c47f7492e934"
      },
      "execution_count": null,
      "outputs": [
        {
          "output_type": "execute_result",
          "data": {
            "text/plain": [
              "tensor([[ 7, 17],\n",
              "        [27, 77]])"
            ]
          },
          "metadata": {},
          "execution_count": 9
        }
      ]
    },
    {
      "cell_type": "code",
      "source": [
        "MATRIX.ndim"
      ],
      "metadata": {
        "colab": {
          "base_uri": "https://localhost:8080/"
        },
        "id": "j-uY68nAzclN",
        "outputId": "449fa7d8-d6d3-4197-f080-dab8fc0082bc"
      },
      "execution_count": null,
      "outputs": [
        {
          "output_type": "execute_result",
          "data": {
            "text/plain": [
              "2"
            ]
          },
          "metadata": {},
          "execution_count": 10
        }
      ]
    },
    {
      "cell_type": "code",
      "source": [
        "MATRIX[0]"
      ],
      "metadata": {
        "colab": {
          "base_uri": "https://localhost:8080/"
        },
        "id": "ZcN3HCaGzpV_",
        "outputId": "00794112-7929-4b3d-fafd-125a391d91d9"
      },
      "execution_count": null,
      "outputs": [
        {
          "output_type": "execute_result",
          "data": {
            "text/plain": [
              "tensor([ 7, 17])"
            ]
          },
          "metadata": {},
          "execution_count": 11
        }
      ]
    },
    {
      "cell_type": "code",
      "source": [
        "MATRIX.shape"
      ],
      "metadata": {
        "colab": {
          "base_uri": "https://localhost:8080/"
        },
        "id": "2BUjaaHAzhzo",
        "outputId": "0b4acea0-fb4c-40e1-b4d4-5a5835f966fe"
      },
      "execution_count": null,
      "outputs": [
        {
          "output_type": "execute_result",
          "data": {
            "text/plain": [
              "torch.Size([2, 2])"
            ]
          },
          "metadata": {},
          "execution_count": 12
        }
      ]
    },
    {
      "cell_type": "markdown",
      "source": [
        "**TENSOR**"
      ],
      "metadata": {
        "id": "IV2GZdwEzjnB"
      }
    },
    {
      "cell_type": "code",
      "source": [
        "TENSOR = torch.tensor([[[7, 17, 27],\n",
        "                        [37, 47, 57],\n",
        "                        [67, 77, 87]]])\n",
        "TENSOR"
      ],
      "metadata": {
        "colab": {
          "base_uri": "https://localhost:8080/"
        },
        "id": "qTq6GCH9z6ZY",
        "outputId": "e042a195-eda2-4009-e5fb-147494ae5418"
      },
      "execution_count": null,
      "outputs": [
        {
          "output_type": "execute_result",
          "data": {
            "text/plain": [
              "tensor([[[ 7, 17, 27],\n",
              "         [37, 47, 57],\n",
              "         [67, 77, 87]]])"
            ]
          },
          "metadata": {},
          "execution_count": 13
        }
      ]
    },
    {
      "cell_type": "code",
      "source": [
        "TENSOR.ndim"
      ],
      "metadata": {
        "colab": {
          "base_uri": "https://localhost:8080/"
        },
        "id": "s6TUfSTi0H8x",
        "outputId": "898e8f0f-9ebd-4098-94f1-a4f146f67274"
      },
      "execution_count": null,
      "outputs": [
        {
          "output_type": "execute_result",
          "data": {
            "text/plain": [
              "3"
            ]
          },
          "metadata": {},
          "execution_count": 14
        }
      ]
    },
    {
      "cell_type": "code",
      "source": [
        "TENSOR.shape"
      ],
      "metadata": {
        "colab": {
          "base_uri": "https://localhost:8080/"
        },
        "id": "Jd4QRCI_0KSp",
        "outputId": "ea6a50e2-5039-47e3-d8f0-e5b42d1b0e7b"
      },
      "execution_count": null,
      "outputs": [
        {
          "output_type": "execute_result",
          "data": {
            "text/plain": [
              "torch.Size([1, 3, 3])"
            ]
          },
          "metadata": {},
          "execution_count": 15
        }
      ]
    },
    {
      "cell_type": "markdown",
      "source": [
        "### RANDOM TENSORS"
      ],
      "metadata": {
        "id": "tUpv61Xm0M4a"
      }
    },
    {
      "cell_type": "code",
      "source": [
        "random_tensors = torch.rand(3, 4)\n",
        "random_tensors"
      ],
      "metadata": {
        "colab": {
          "base_uri": "https://localhost:8080/"
        },
        "id": "TL03zGte1GDd",
        "outputId": "3e5cda01-126b-4426-fb5a-669c464eeb99"
      },
      "execution_count": null,
      "outputs": [
        {
          "output_type": "execute_result",
          "data": {
            "text/plain": [
              "tensor([[0.4095, 0.6403, 0.0960, 0.8866],\n",
              "        [0.0710, 0.5023, 0.8975, 0.3901],\n",
              "        [0.5009, 0.0012, 0.1125, 0.6400]])"
            ]
          },
          "metadata": {},
          "execution_count": 16
        }
      ]
    },
    {
      "cell_type": "code",
      "source": [
        "random_tensors.ndim"
      ],
      "metadata": {
        "colab": {
          "base_uri": "https://localhost:8080/"
        },
        "id": "1eF0IB5I23qN",
        "outputId": "c92f36bf-24b6-416f-f71d-26992c35f5f4"
      },
      "execution_count": null,
      "outputs": [
        {
          "output_type": "execute_result",
          "data": {
            "text/plain": [
              "2"
            ]
          },
          "metadata": {},
          "execution_count": 17
        }
      ]
    },
    {
      "cell_type": "code",
      "source": [
        "random_tensors.dtype"
      ],
      "metadata": {
        "colab": {
          "base_uri": "https://localhost:8080/"
        },
        "id": "v7ckIyyj29SY",
        "outputId": "c82f5ede-01a7-42e1-93c5-b2d303c140b7"
      },
      "execution_count": null,
      "outputs": [
        {
          "output_type": "execute_result",
          "data": {
            "text/plain": [
              "torch.float32"
            ]
          },
          "metadata": {},
          "execution_count": 18
        }
      ]
    },
    {
      "cell_type": "code",
      "source": [
        "random_image_size_tensor = torch.rand(size=(224, 224, 3))\n",
        "random_image_size_tensor.shape, random_image_size_tensor.ndim"
      ],
      "metadata": {
        "colab": {
          "base_uri": "https://localhost:8080/"
        },
        "id": "k14kejKp2_SC",
        "outputId": "e9d551ed-0bef-487a-f64d-15fbae5dde6a"
      },
      "execution_count": null,
      "outputs": [
        {
          "output_type": "execute_result",
          "data": {
            "text/plain": [
              "(torch.Size([224, 224, 3]), 3)"
            ]
          },
          "metadata": {},
          "execution_count": 19
        }
      ]
    },
    {
      "cell_type": "markdown",
      "source": [
        "### ZEROS AND ONES"
      ],
      "metadata": {
        "id": "05Tjvbu63aVA"
      }
    },
    {
      "cell_type": "code",
      "source": [
        "zeros = torch.zeros(size=(3, 4))\n",
        "zeros"
      ],
      "metadata": {
        "colab": {
          "base_uri": "https://localhost:8080/"
        },
        "id": "oNVqHl264HwB",
        "outputId": "58dcd2b0-d1e1-476a-cc59-05bc3d71bf3d"
      },
      "execution_count": null,
      "outputs": [
        {
          "output_type": "execute_result",
          "data": {
            "text/plain": [
              "tensor([[0., 0., 0., 0.],\n",
              "        [0., 0., 0., 0.],\n",
              "        [0., 0., 0., 0.]])"
            ]
          },
          "metadata": {},
          "execution_count": 20
        }
      ]
    },
    {
      "cell_type": "code",
      "source": [
        "ones = torch.ones(size=(3, 4))\n",
        "ones"
      ],
      "metadata": {
        "colab": {
          "base_uri": "https://localhost:8080/"
        },
        "id": "Hh0OJI854S61",
        "outputId": "3c932cd1-67fc-488d-b293-4df55321e12f"
      },
      "execution_count": null,
      "outputs": [
        {
          "output_type": "execute_result",
          "data": {
            "text/plain": [
              "tensor([[1., 1., 1., 1.],\n",
              "        [1., 1., 1., 1.],\n",
              "        [1., 1., 1., 1.]])"
            ]
          },
          "metadata": {},
          "execution_count": 21
        }
      ]
    },
    {
      "cell_type": "markdown",
      "source": [
        "### CREATING A RANGE OF TENSORS AND TENSORS-LIKE"
      ],
      "metadata": {
        "id": "3tE6YBbT4jV8"
      }
    },
    {
      "cell_type": "code",
      "source": [
        "torch.range(0, 10)"
      ],
      "metadata": {
        "colab": {
          "base_uri": "https://localhost:8080/"
        },
        "id": "Wz0_gjc75EiY",
        "outputId": "9e21d135-3ea7-45d0-f85e-e192612ebb0f"
      },
      "execution_count": null,
      "outputs": [
        {
          "output_type": "stream",
          "name": "stderr",
          "text": [
            "/usr/local/lib/python3.7/dist-packages/ipykernel_launcher.py:1: UserWarning: torch.range is deprecated and will be removed in a future release because its behavior is inconsistent with Python's range builtin. Instead, use torch.arange, which produces values in [start, end).\n",
            "  \"\"\"Entry point for launching an IPython kernel.\n"
          ]
        },
        {
          "output_type": "execute_result",
          "data": {
            "text/plain": [
              "tensor([ 0.,  1.,  2.,  3.,  4.,  5.,  6.,  7.,  8.,  9., 10.])"
            ]
          },
          "metadata": {},
          "execution_count": 22
        }
      ]
    },
    {
      "cell_type": "code",
      "source": [
        "one_to_ten = torch.arange(1, 11)\n",
        "one_to_ten"
      ],
      "metadata": {
        "colab": {
          "base_uri": "https://localhost:8080/"
        },
        "id": "1mjT6SRD5J5C",
        "outputId": "dbdde5de-a26d-4c17-86e1-e8211ef51419"
      },
      "execution_count": null,
      "outputs": [
        {
          "output_type": "execute_result",
          "data": {
            "text/plain": [
              "tensor([ 1,  2,  3,  4,  5,  6,  7,  8,  9, 10])"
            ]
          },
          "metadata": {},
          "execution_count": 23
        }
      ]
    },
    {
      "cell_type": "code",
      "source": [
        "zero_to_thousand = torch.arange(start=0, end=1000, step=20)\n",
        "zero_to_thousand"
      ],
      "metadata": {
        "colab": {
          "base_uri": "https://localhost:8080/"
        },
        "id": "lBqr4sZa5V1H",
        "outputId": "e5ef6e78-f649-4d28-ea6b-862513ef997f"
      },
      "execution_count": null,
      "outputs": [
        {
          "output_type": "execute_result",
          "data": {
            "text/plain": [
              "tensor([  0,  20,  40,  60,  80, 100, 120, 140, 160, 180, 200, 220, 240, 260,\n",
              "        280, 300, 320, 340, 360, 380, 400, 420, 440, 460, 480, 500, 520, 540,\n",
              "        560, 580, 600, 620, 640, 660, 680, 700, 720, 740, 760, 780, 800, 820,\n",
              "        840, 860, 880, 900, 920, 940, 960, 980])"
            ]
          },
          "metadata": {},
          "execution_count": 24
        }
      ]
    },
    {
      "cell_type": "code",
      "source": [
        "ten_zeros = torch.zeros_like(input=one_to_ten)\n",
        "ten_zeros"
      ],
      "metadata": {
        "colab": {
          "base_uri": "https://localhost:8080/"
        },
        "id": "j-JCHAwb5nD_",
        "outputId": "175b8b7c-10fe-41f5-9f97-bae16063d93b"
      },
      "execution_count": null,
      "outputs": [
        {
          "output_type": "execute_result",
          "data": {
            "text/plain": [
              "tensor([0, 0, 0, 0, 0, 0, 0, 0, 0, 0])"
            ]
          },
          "metadata": {},
          "execution_count": 25
        }
      ]
    },
    {
      "cell_type": "markdown",
      "source": [
        "## TENSOR DATATYPES"
      ],
      "metadata": {
        "id": "Q-IKwDWa6yTS"
      }
    },
    {
      "cell_type": "code",
      "source": [
        "float_32_tensor = torch.tensor([3.0, 6.0, 8.0], dtype=None)\n",
        "float_32_tensor"
      ],
      "metadata": {
        "colab": {
          "base_uri": "https://localhost:8080/"
        },
        "id": "9wAnqChJ7OUI",
        "outputId": "9ca3827a-d5dd-459c-b6be-06ee3fa9d395"
      },
      "execution_count": null,
      "outputs": [
        {
          "output_type": "execute_result",
          "data": {
            "text/plain": [
              "tensor([3., 6., 8.])"
            ]
          },
          "metadata": {},
          "execution_count": 26
        }
      ]
    },
    {
      "cell_type": "code",
      "source": [
        "float_32_tensor.dtype"
      ],
      "metadata": {
        "colab": {
          "base_uri": "https://localhost:8080/"
        },
        "id": "PuI4Ztku7dCg",
        "outputId": "17f78784-2c0a-4daa-fee9-6f8a123def3f"
      },
      "execution_count": null,
      "outputs": [
        {
          "output_type": "execute_result",
          "data": {
            "text/plain": [
              "torch.float32"
            ]
          },
          "metadata": {},
          "execution_count": 27
        }
      ]
    },
    {
      "cell_type": "code",
      "source": [
        "# float_32_tensor = torch.tensor([3.0, 6.0, 8.0],\n",
        "#                                dtype=None,\n",
        "#                                device=None,\n",
        "#                                requires_grad=False)\n",
        "# float_32_tensor"
      ],
      "metadata": {
        "id": "iLSYDavG74X-"
      },
      "execution_count": null,
      "outputs": []
    },
    {
      "cell_type": "code",
      "source": [
        "float_16_tensor = float_32_tensor.type(torch.float16)\n",
        "float_16_tensor"
      ],
      "metadata": {
        "colab": {
          "base_uri": "https://localhost:8080/"
        },
        "id": "zQZ-V1tv9Cbc",
        "outputId": "f2b73ca1-5425-4df4-8430-3f1bba6f1968"
      },
      "execution_count": null,
      "outputs": [
        {
          "output_type": "execute_result",
          "data": {
            "text/plain": [
              "tensor([3., 6., 8.], dtype=torch.float16)"
            ]
          },
          "metadata": {},
          "execution_count": 29
        }
      ]
    },
    {
      "cell_type": "code",
      "source": [
        "float_16_tensor * float_32_tensor"
      ],
      "metadata": {
        "colab": {
          "base_uri": "https://localhost:8080/"
        },
        "id": "DzihRWX59OQf",
        "outputId": "896a0676-bde7-4564-94bb-7f3940314e86"
      },
      "execution_count": null,
      "outputs": [
        {
          "output_type": "execute_result",
          "data": {
            "text/plain": [
              "tensor([ 9., 36., 64.])"
            ]
          },
          "metadata": {},
          "execution_count": 30
        }
      ]
    },
    {
      "cell_type": "code",
      "source": [
        "int_32_tensor = torch.tensor([3, 6, 8], dtype=torch.int32)\n",
        "int_32_tensor"
      ],
      "metadata": {
        "colab": {
          "base_uri": "https://localhost:8080/"
        },
        "id": "HJNe-sUw9sPz",
        "outputId": "827a7495-6b51-4e20-893f-e9b2f1674cd0"
      },
      "execution_count": null,
      "outputs": [
        {
          "output_type": "execute_result",
          "data": {
            "text/plain": [
              "tensor([3, 6, 8], dtype=torch.int32)"
            ]
          },
          "metadata": {},
          "execution_count": 31
        }
      ]
    },
    {
      "cell_type": "code",
      "source": [
        "float_32_tensor * int_32_tensor"
      ],
      "metadata": {
        "colab": {
          "base_uri": "https://localhost:8080/"
        },
        "id": "kD9roUa-903o",
        "outputId": "0f2b6723-2f12-4bec-853a-116fa4f1c103"
      },
      "execution_count": null,
      "outputs": [
        {
          "output_type": "execute_result",
          "data": {
            "text/plain": [
              "tensor([ 9., 36., 64.])"
            ]
          },
          "metadata": {},
          "execution_count": 32
        }
      ]
    },
    {
      "cell_type": "markdown",
      "source": [
        "### GETTING INFORMATION FROM TENSORS"
      ],
      "metadata": {
        "id": "dIB-D8bP-Crz"
      }
    },
    {
      "cell_type": "code",
      "source": [
        "some_tensor = torch.rand(3, 4)\n",
        "some_tensor"
      ],
      "metadata": {
        "colab": {
          "base_uri": "https://localhost:8080/"
        },
        "id": "Rw4UOfIR-hCO",
        "outputId": "5d8e2dee-b156-45e4-9356-d7dfc759e7b8"
      },
      "execution_count": null,
      "outputs": [
        {
          "output_type": "execute_result",
          "data": {
            "text/plain": [
              "tensor([[0.4486, 0.6560, 0.2180, 0.4166],\n",
              "        [0.6895, 0.6410, 0.4658, 0.2523],\n",
              "        [0.1419, 0.8112, 0.7489, 0.2801]])"
            ]
          },
          "metadata": {},
          "execution_count": 33
        }
      ]
    },
    {
      "cell_type": "code",
      "source": [
        "some_tensor.dtype"
      ],
      "metadata": {
        "colab": {
          "base_uri": "https://localhost:8080/"
        },
        "id": "GSVnFCtP-4CA",
        "outputId": "21498c45-1f5d-4836-ec87-839bb5aadb24"
      },
      "execution_count": null,
      "outputs": [
        {
          "output_type": "execute_result",
          "data": {
            "text/plain": [
              "torch.float32"
            ]
          },
          "metadata": {},
          "execution_count": 34
        }
      ]
    },
    {
      "cell_type": "code",
      "source": [
        "some_tensor.shape"
      ],
      "metadata": {
        "colab": {
          "base_uri": "https://localhost:8080/"
        },
        "id": "ZttNJEBK_Exb",
        "outputId": "038320ef-04d6-4383-f9c7-1be0eb9a04cc"
      },
      "execution_count": null,
      "outputs": [
        {
          "output_type": "execute_result",
          "data": {
            "text/plain": [
              "torch.Size([3, 4])"
            ]
          },
          "metadata": {},
          "execution_count": 35
        }
      ]
    },
    {
      "cell_type": "code",
      "source": [
        "some_tensor.device"
      ],
      "metadata": {
        "colab": {
          "base_uri": "https://localhost:8080/"
        },
        "id": "27LvpehU_Fjx",
        "outputId": "26d09eb6-3a0f-4a4d-9334-a180330da0a6"
      },
      "execution_count": null,
      "outputs": [
        {
          "output_type": "execute_result",
          "data": {
            "text/plain": [
              "device(type='cpu')"
            ]
          },
          "metadata": {},
          "execution_count": 36
        }
      ]
    },
    {
      "cell_type": "markdown",
      "source": [
        "## MANIPULATING TENSORS (TENSOR OPERATIONS)"
      ],
      "metadata": {
        "id": "u67ZIMOn_aoH"
      }
    },
    {
      "cell_type": "code",
      "source": [
        "tensor = torch.tensor([1, 2, 3])\n",
        "tensor + 10"
      ],
      "metadata": {
        "id": "Ag_qDBOm_rFj",
        "colab": {
          "base_uri": "https://localhost:8080/"
        },
        "outputId": "b4f5b87e-93c9-4b4d-afec-7baff2ea9f0d"
      },
      "execution_count": null,
      "outputs": [
        {
          "output_type": "execute_result",
          "data": {
            "text/plain": [
              "tensor([11, 12, 13])"
            ]
          },
          "metadata": {},
          "execution_count": 37
        }
      ]
    },
    {
      "cell_type": "code",
      "source": [
        "tensor * 10"
      ],
      "metadata": {
        "colab": {
          "base_uri": "https://localhost:8080/"
        },
        "id": "Ziv0nloA-bhg",
        "outputId": "42b7f38e-58eb-4ee5-eaab-700fc0cbfa86"
      },
      "execution_count": null,
      "outputs": [
        {
          "output_type": "execute_result",
          "data": {
            "text/plain": [
              "tensor([10, 20, 30])"
            ]
          },
          "metadata": {},
          "execution_count": 38
        }
      ]
    },
    {
      "cell_type": "code",
      "source": [
        "tensor - 10"
      ],
      "metadata": {
        "colab": {
          "base_uri": "https://localhost:8080/"
        },
        "id": "emj4zjoU-naB",
        "outputId": "3a6b37cf-64bc-46a7-b9b8-36007457e72b"
      },
      "execution_count": null,
      "outputs": [
        {
          "output_type": "execute_result",
          "data": {
            "text/plain": [
              "tensor([-9, -8, -7])"
            ]
          },
          "metadata": {},
          "execution_count": 39
        }
      ]
    },
    {
      "cell_type": "code",
      "source": [
        "torch.mul(tensor, 10)"
      ],
      "metadata": {
        "colab": {
          "base_uri": "https://localhost:8080/"
        },
        "id": "aFW4ZHRp-zGW",
        "outputId": "8897647a-ebe2-4317-a0a3-0b16a296ed7c"
      },
      "execution_count": null,
      "outputs": [
        {
          "output_type": "execute_result",
          "data": {
            "text/plain": [
              "tensor([10, 20, 30])"
            ]
          },
          "metadata": {},
          "execution_count": 40
        }
      ]
    },
    {
      "cell_type": "code",
      "source": [
        "torch.add(tensor, 4)"
      ],
      "metadata": {
        "colab": {
          "base_uri": "https://localhost:8080/"
        },
        "id": "gHylYjE9_AFB",
        "outputId": "ebaaff08-e475-43c4-8f3e-f64a1cb244e8"
      },
      "execution_count": null,
      "outputs": [
        {
          "output_type": "execute_result",
          "data": {
            "text/plain": [
              "tensor([5, 6, 7])"
            ]
          },
          "metadata": {},
          "execution_count": 41
        }
      ]
    },
    {
      "cell_type": "markdown",
      "source": [
        "### MATRIX MULTIPLICATIONS"
      ],
      "metadata": {
        "id": "Rmj5coIj_OXA"
      }
    },
    {
      "cell_type": "markdown",
      "source": [
        "#### ELEMENT-WISE MULTIPLICATION"
      ],
      "metadata": {
        "id": "mHwOvHmr_hrC"
      }
    },
    {
      "cell_type": "code",
      "source": [
        "tensor * tensor"
      ],
      "metadata": {
        "colab": {
          "base_uri": "https://localhost:8080/"
        },
        "id": "hwiZYs_kAl5B",
        "outputId": "2f8863df-7f9e-41ee-b010-c40c7229674e"
      },
      "execution_count": null,
      "outputs": [
        {
          "output_type": "execute_result",
          "data": {
            "text/plain": [
              "tensor([1, 4, 9])"
            ]
          },
          "metadata": {},
          "execution_count": 42
        }
      ]
    },
    {
      "cell_type": "code",
      "source": [
        "torch.matmul(tensor, tensor)"
      ],
      "metadata": {
        "colab": {
          "base_uri": "https://localhost:8080/"
        },
        "id": "vT2Uc0jiAusl",
        "outputId": "22d1a745-bd37-4f81-e4c9-ef0c7d7e11e5"
      },
      "execution_count": null,
      "outputs": [
        {
          "output_type": "execute_result",
          "data": {
            "text/plain": [
              "tensor(14)"
            ]
          },
          "metadata": {},
          "execution_count": 43
        }
      ]
    },
    {
      "cell_type": "code",
      "source": [
        "%%time\n",
        "value = 0\n",
        "for i in range(len(tensor)):\n",
        "  value += tensor[i] * tensor[i]\n",
        "\n",
        "value"
      ],
      "metadata": {
        "colab": {
          "base_uri": "https://localhost:8080/"
        },
        "id": "8AKqZClpBADG",
        "outputId": "b134879f-e58f-4349-ffb5-20cf6ce1bdf9"
      },
      "execution_count": null,
      "outputs": [
        {
          "output_type": "stream",
          "name": "stdout",
          "text": [
            "CPU times: user 1.2 ms, sys: 35 µs, total: 1.23 ms\n",
            "Wall time: 1.24 ms\n"
          ]
        },
        {
          "output_type": "execute_result",
          "data": {
            "text/plain": [
              "tensor(14)"
            ]
          },
          "metadata": {},
          "execution_count": 44
        }
      ]
    },
    {
      "cell_type": "code",
      "source": [
        "%%time\n",
        "torch.matmul(tensor, tensor)"
      ],
      "metadata": {
        "colab": {
          "base_uri": "https://localhost:8080/"
        },
        "id": "aq2weuuuBuTv",
        "outputId": "028e72d7-5ce5-48e4-afe4-3fd617ba74ce"
      },
      "execution_count": null,
      "outputs": [
        {
          "output_type": "stream",
          "name": "stdout",
          "text": [
            "CPU times: user 86 µs, sys: 0 ns, total: 86 µs\n",
            "Wall time: 93 µs\n"
          ]
        },
        {
          "output_type": "execute_result",
          "data": {
            "text/plain": [
              "tensor(14)"
            ]
          },
          "metadata": {},
          "execution_count": 45
        }
      ]
    },
    {
      "cell_type": "code",
      "source": [
        "tensor_A = torch.tensor([[1, 2],\n",
        "                        [3, 4],\n",
        "                        [5, 6]])\n",
        "\n",
        "tensor_B = torch.tensor([[7, 8],\n",
        "                        [9, 10],\n",
        "                        [11, 12]])"
      ],
      "metadata": {
        "id": "Vyv8tVWUB04o"
      },
      "execution_count": null,
      "outputs": []
    },
    {
      "cell_type": "code",
      "source": [
        "tensor_A.shape, tensor_B.shape"
      ],
      "metadata": {
        "colab": {
          "base_uri": "https://localhost:8080/"
        },
        "id": "uJHYOLpME91o",
        "outputId": "5242548d-7a2b-4bd0-f74c-8b1b34b0d41c"
      },
      "execution_count": null,
      "outputs": [
        {
          "output_type": "execute_result",
          "data": {
            "text/plain": [
              "(torch.Size([3, 2]), torch.Size([3, 2]))"
            ]
          },
          "metadata": {},
          "execution_count": 47
        }
      ]
    },
    {
      "cell_type": "code",
      "source": [
        "tensor_B.T"
      ],
      "metadata": {
        "colab": {
          "base_uri": "https://localhost:8080/"
        },
        "id": "kh-reqf9FKcG",
        "outputId": "ad6a6417-0125-411d-ffa1-4b8e4da5f8df"
      },
      "execution_count": null,
      "outputs": [
        {
          "output_type": "execute_result",
          "data": {
            "text/plain": [
              "tensor([[ 7,  9, 11],\n",
              "        [ 8, 10, 12]])"
            ]
          },
          "metadata": {},
          "execution_count": 48
        }
      ]
    },
    {
      "cell_type": "code",
      "source": [
        "tensor_B"
      ],
      "metadata": {
        "colab": {
          "base_uri": "https://localhost:8080/"
        },
        "id": "j5ZHdbG9FiNE",
        "outputId": "7da21b21-d536-4bba-a885-875f5fc7251c"
      },
      "execution_count": null,
      "outputs": [
        {
          "output_type": "execute_result",
          "data": {
            "text/plain": [
              "tensor([[ 7,  8],\n",
              "        [ 9, 10],\n",
              "        [11, 12]])"
            ]
          },
          "metadata": {},
          "execution_count": 49
        }
      ]
    },
    {
      "cell_type": "code",
      "source": [
        "torch.mm(tensor_A, tensor_B.T)"
      ],
      "metadata": {
        "colab": {
          "base_uri": "https://localhost:8080/"
        },
        "id": "cWGI8O9GGahG",
        "outputId": "97d838dc-7711-4f5a-e38b-80aad6c5ae51"
      },
      "execution_count": null,
      "outputs": [
        {
          "output_type": "execute_result",
          "data": {
            "text/plain": [
              "tensor([[ 23,  29,  35],\n",
              "        [ 53,  67,  81],\n",
              "        [ 83, 105, 127]])"
            ]
          },
          "metadata": {},
          "execution_count": 50
        }
      ]
    },
    {
      "cell_type": "markdown",
      "source": [
        "## TENSOR AGGREGATION (MIN, MAX, MEAN, SUM, etc)"
      ],
      "metadata": {
        "id": "Hvs-7QLVGe51"
      }
    },
    {
      "cell_type": "code",
      "source": [
        "x = torch.arange(0, 100, 10)\n",
        "x"
      ],
      "metadata": {
        "colab": {
          "base_uri": "https://localhost:8080/"
        },
        "id": "CXoNBOZYIVlB",
        "outputId": "34156801-7a73-4e8c-e7ab-5628e504bf53"
      },
      "execution_count": null,
      "outputs": [
        {
          "output_type": "execute_result",
          "data": {
            "text/plain": [
              "tensor([ 0, 10, 20, 30, 40, 50, 60, 70, 80, 90])"
            ]
          },
          "metadata": {},
          "execution_count": 51
        }
      ]
    },
    {
      "cell_type": "code",
      "source": [
        "torch.min(x), x.min()"
      ],
      "metadata": {
        "colab": {
          "base_uri": "https://localhost:8080/"
        },
        "id": "wEtkoWAsIoom",
        "outputId": "e0e0a312-8e7d-45ae-ea19-2b1092c0a075"
      },
      "execution_count": null,
      "outputs": [
        {
          "output_type": "execute_result",
          "data": {
            "text/plain": [
              "(tensor(0), tensor(0))"
            ]
          },
          "metadata": {},
          "execution_count": 52
        }
      ]
    },
    {
      "cell_type": "code",
      "source": [
        "torch.max(x), x.max()"
      ],
      "metadata": {
        "colab": {
          "base_uri": "https://localhost:8080/"
        },
        "id": "vKXwh7OqI1s-",
        "outputId": "a28a7228-ea69-4b61-8ebd-25355d79b5de"
      },
      "execution_count": null,
      "outputs": [
        {
          "output_type": "execute_result",
          "data": {
            "text/plain": [
              "(tensor(90), tensor(90))"
            ]
          },
          "metadata": {},
          "execution_count": 53
        }
      ]
    },
    {
      "cell_type": "code",
      "source": [
        "torch.mean(x.type(torch.float32))"
      ],
      "metadata": {
        "colab": {
          "base_uri": "https://localhost:8080/"
        },
        "id": "fEHTe2gTI5Dp",
        "outputId": "8ed842fe-04c9-4e82-da7f-543c0da7447c"
      },
      "execution_count": null,
      "outputs": [
        {
          "output_type": "execute_result",
          "data": {
            "text/plain": [
              "tensor(45.)"
            ]
          },
          "metadata": {},
          "execution_count": 54
        }
      ]
    },
    {
      "cell_type": "code",
      "source": [
        "x.type(torch.float32).mean()"
      ],
      "metadata": {
        "colab": {
          "base_uri": "https://localhost:8080/"
        },
        "id": "yC82xmFoJY8a",
        "outputId": "7dd43584-c130-4347-ee14-1f6e7b3bc04f"
      },
      "execution_count": null,
      "outputs": [
        {
          "output_type": "execute_result",
          "data": {
            "text/plain": [
              "tensor(45.)"
            ]
          },
          "metadata": {},
          "execution_count": 55
        }
      ]
    },
    {
      "cell_type": "code",
      "source": [
        "torch.sum(x), x.sum()"
      ],
      "metadata": {
        "colab": {
          "base_uri": "https://localhost:8080/"
        },
        "id": "s_UypEhQJeju",
        "outputId": "9ae98cda-6ada-49e3-b009-525b64f28864"
      },
      "execution_count": null,
      "outputs": [
        {
          "output_type": "execute_result",
          "data": {
            "text/plain": [
              "(tensor(450), tensor(450))"
            ]
          },
          "metadata": {},
          "execution_count": 56
        }
      ]
    },
    {
      "cell_type": "code",
      "source": [
        "x = torch.arange(1, 100, 7)\n",
        "x"
      ],
      "metadata": {
        "colab": {
          "base_uri": "https://localhost:8080/"
        },
        "id": "XObTSfyRKSdb",
        "outputId": "96226fdf-1ff5-45dd-cc90-9bfafaee9b45"
      },
      "execution_count": null,
      "outputs": [
        {
          "output_type": "execute_result",
          "data": {
            "text/plain": [
              "tensor([ 1,  8, 15, 22, 29, 36, 43, 50, 57, 64, 71, 78, 85, 92, 99])"
            ]
          },
          "metadata": {},
          "execution_count": 57
        }
      ]
    },
    {
      "cell_type": "code",
      "source": [
        "x.argmin()"
      ],
      "metadata": {
        "colab": {
          "base_uri": "https://localhost:8080/"
        },
        "id": "doRV1ENEJ6wp",
        "outputId": "8729484f-1236-4f06-a1b0-6ba3407b1d91"
      },
      "execution_count": null,
      "outputs": [
        {
          "output_type": "execute_result",
          "data": {
            "text/plain": [
              "tensor(0)"
            ]
          },
          "metadata": {},
          "execution_count": 58
        }
      ]
    },
    {
      "cell_type": "code",
      "source": [
        "x.argmax()"
      ],
      "metadata": {
        "colab": {
          "base_uri": "https://localhost:8080/"
        },
        "id": "mWmeuANMKDus",
        "outputId": "74c9c4a9-5d5b-4d2e-d20a-4224a7eebb37"
      },
      "execution_count": null,
      "outputs": [
        {
          "output_type": "execute_result",
          "data": {
            "text/plain": [
              "tensor(14)"
            ]
          },
          "metadata": {},
          "execution_count": 59
        }
      ]
    },
    {
      "cell_type": "markdown",
      "source": [
        "## RESHAPING, STACKING, SQUEEZING AND UNSQUEEZING"
      ],
      "metadata": {
        "id": "AfzZ98jPKHSN"
      }
    },
    {
      "cell_type": "code",
      "source": [
        "x = torch.arange(1., 10.)\n",
        "x, x.shape"
      ],
      "metadata": {
        "colab": {
          "base_uri": "https://localhost:8080/"
        },
        "id": "OexQsrmgLHLT",
        "outputId": "c24e9c27-40ce-4727-fe52-6c7694bcd64f"
      },
      "execution_count": null,
      "outputs": [
        {
          "output_type": "execute_result",
          "data": {
            "text/plain": [
              "(tensor([1., 2., 3., 4., 5., 6., 7., 8., 9.]), torch.Size([9]))"
            ]
          },
          "metadata": {},
          "execution_count": 60
        }
      ]
    },
    {
      "cell_type": "code",
      "source": [
        "x_reshaped = x.reshape(1, 9)\n",
        "x_reshaped, x_reshaped.shape"
      ],
      "metadata": {
        "colab": {
          "base_uri": "https://localhost:8080/"
        },
        "id": "i7_-cPzoL0x8",
        "outputId": "bcd16588-d71a-4343-a0ce-e213cd66560e"
      },
      "execution_count": null,
      "outputs": [
        {
          "output_type": "execute_result",
          "data": {
            "text/plain": [
              "(tensor([[1., 2., 3., 4., 5., 6., 7., 8., 9.]]), torch.Size([1, 9]))"
            ]
          },
          "metadata": {},
          "execution_count": 61
        }
      ]
    },
    {
      "cell_type": "code",
      "source": [
        "z = x.view(1, 9)\n",
        "z, z.shape"
      ],
      "metadata": {
        "id": "J4q7qojWMT-X",
        "colab": {
          "base_uri": "https://localhost:8080/"
        },
        "outputId": "9643388f-6deb-4871-d8dc-5b542a02de18"
      },
      "execution_count": null,
      "outputs": [
        {
          "output_type": "execute_result",
          "data": {
            "text/plain": [
              "(tensor([[1., 2., 3., 4., 5., 6., 7., 8., 9.]]), torch.Size([1, 9]))"
            ]
          },
          "metadata": {},
          "execution_count": 65
        }
      ]
    },
    {
      "cell_type": "code",
      "source": [
        "x_stacked = torch.stack([x, x, x, x], dim=1)\n",
        "x_stacked"
      ],
      "metadata": {
        "colab": {
          "base_uri": "https://localhost:8080/"
        },
        "id": "pnGn2SZtCUjX",
        "outputId": "c71610cc-4ec0-4317-f6a6-1fc4099ab935"
      },
      "execution_count": null,
      "outputs": [
        {
          "output_type": "execute_result",
          "data": {
            "text/plain": [
              "tensor([[1., 1., 1., 1.],\n",
              "        [2., 2., 2., 2.],\n",
              "        [3., 3., 3., 3.],\n",
              "        [4., 4., 4., 4.],\n",
              "        [5., 5., 5., 5.],\n",
              "        [6., 6., 6., 6.],\n",
              "        [7., 7., 7., 7.],\n",
              "        [8., 8., 8., 8.],\n",
              "        [9., 9., 9., 9.]])"
            ]
          },
          "metadata": {},
          "execution_count": 66
        }
      ]
    },
    {
      "cell_type": "code",
      "source": [
        "x_reshaped, x_reshaped.shape"
      ],
      "metadata": {
        "colab": {
          "base_uri": "https://localhost:8080/"
        },
        "id": "wKrmsJELF3Xd",
        "outputId": "dc0c769f-084f-4c14-dd4d-fd8309bab631"
      },
      "execution_count": null,
      "outputs": [
        {
          "output_type": "execute_result",
          "data": {
            "text/plain": [
              "(tensor([[1., 2., 3., 4., 5., 6., 7., 8., 9.]]), torch.Size([1, 9]))"
            ]
          },
          "metadata": {},
          "execution_count": 68
        }
      ]
    },
    {
      "cell_type": "code",
      "source": [
        "x_squeezed = x_reshaped.squeeze(),\n",
        "x_squeezed"
      ],
      "metadata": {
        "colab": {
          "base_uri": "https://localhost:8080/"
        },
        "id": "v3nC_mgoKBgX",
        "outputId": "c1ffbe55-1e58-4746-ce6d-82649d512d47"
      },
      "execution_count": null,
      "outputs": [
        {
          "output_type": "execute_result",
          "data": {
            "text/plain": [
              "(tensor([1., 2., 3., 4., 5., 6., 7., 8., 9.]),)"
            ]
          },
          "metadata": {},
          "execution_count": 72
        }
      ]
    },
    {
      "cell_type": "code",
      "source": [
        "x_squeezed.shape"
      ],
      "metadata": {
        "colab": {
          "base_uri": "https://localhost:8080/",
          "height": 208
        },
        "id": "6j6U71icLOFw",
        "outputId": "79111fbe-926f-4549-8015-b2841b71f528"
      },
      "execution_count": null,
      "outputs": [
        {
          "output_type": "error",
          "ename": "AttributeError",
          "evalue": "ignored",
          "traceback": [
            "\u001b[0;31m---------------------------------------------------------------------------\u001b[0m",
            "\u001b[0;31mAttributeError\u001b[0m                            Traceback (most recent call last)",
            "\u001b[0;32m<ipython-input-75-c2919813e924>\u001b[0m in \u001b[0;36m<module>\u001b[0;34m\u001b[0m\n\u001b[0;32m----> 1\u001b[0;31m \u001b[0mx_squeezed\u001b[0m\u001b[0;34m.\u001b[0m\u001b[0mshape\u001b[0m\u001b[0;34m\u001b[0m\u001b[0;34m\u001b[0m\u001b[0m\n\u001b[0m",
            "\u001b[0;31mAttributeError\u001b[0m: 'tuple' object has no attribute 'shape'"
          ]
        }
      ]
    },
    {
      "cell_type": "code",
      "source": [
        "x_unsqueezed = x_squeezed.unsqueeze(dim=0)\n",
        "x_unsqueezed"
      ],
      "metadata": {
        "id": "Dx3wzc2SKOkx"
      },
      "execution_count": null,
      "outputs": []
    },
    {
      "cell_type": "markdown",
      "source": [
        "### PERMUTING"
      ],
      "metadata": {
        "id": "1AO0DCM4LHwg"
      }
    },
    {
      "cell_type": "code",
      "source": [
        "x_original = torch.rand(size=(224, 224, 3))\n",
        "x_permuted = x_original.permute(2, 0, 1)\n",
        "x_original.shape, x_permuted.shape"
      ],
      "metadata": {
        "colab": {
          "base_uri": "https://localhost:8080/"
        },
        "id": "T59bwBr2NP9p",
        "outputId": "7e5bf1ef-9310-4858-8e10-3ea6e5819e52"
      },
      "execution_count": null,
      "outputs": [
        {
          "output_type": "execute_result",
          "data": {
            "text/plain": [
              "(torch.Size([224, 224, 3]), torch.Size([3, 224, 224]))"
            ]
          },
          "metadata": {},
          "execution_count": 77
        }
      ]
    },
    {
      "cell_type": "markdown",
      "source": [
        "## INDEXING (SELECTING DATA FROM TENSORS)"
      ],
      "metadata": {
        "id": "9kxLXGaNNso1"
      }
    },
    {
      "cell_type": "code",
      "source": [
        "x = torch.arange(1, 10).reshape(1, 3, 3)\n",
        "x, x.shape"
      ],
      "metadata": {
        "colab": {
          "base_uri": "https://localhost:8080/"
        },
        "id": "c1l85ycEOWV5",
        "outputId": "173b4ff8-8c5d-467b-ff3a-819076c2d199"
      },
      "execution_count": null,
      "outputs": [
        {
          "output_type": "execute_result",
          "data": {
            "text/plain": [
              "(tensor([[[1, 2, 3],\n",
              "          [4, 5, 6],\n",
              "          [7, 8, 9]]]), torch.Size([1, 3, 3]))"
            ]
          },
          "metadata": {},
          "execution_count": 78
        }
      ]
    },
    {
      "cell_type": "code",
      "source": [
        "x[0]"
      ],
      "metadata": {
        "colab": {
          "base_uri": "https://localhost:8080/"
        },
        "id": "YhnlZuGcOlJ_",
        "outputId": "b0229fb7-0bde-4be2-afdb-38ab35387408"
      },
      "execution_count": null,
      "outputs": [
        {
          "output_type": "execute_result",
          "data": {
            "text/plain": [
              "tensor([[1, 2, 3],\n",
              "        [4, 5, 6],\n",
              "        [7, 8, 9]])"
            ]
          },
          "metadata": {},
          "execution_count": 79
        }
      ]
    },
    {
      "cell_type": "code",
      "source": [
        "x[0][0]"
      ],
      "metadata": {
        "colab": {
          "base_uri": "https://localhost:8080/"
        },
        "id": "apU-rYppOvAH",
        "outputId": "e31f9bf3-b7e1-430d-fa3d-f8acbbfd39b8"
      },
      "execution_count": null,
      "outputs": [
        {
          "output_type": "execute_result",
          "data": {
            "text/plain": [
              "tensor([1, 2, 3])"
            ]
          },
          "metadata": {},
          "execution_count": 80
        }
      ]
    },
    {
      "cell_type": "code",
      "source": [
        "x[0][0][0]"
      ],
      "metadata": {
        "colab": {
          "base_uri": "https://localhost:8080/"
        },
        "id": "e2loL_IiO45y",
        "outputId": "2c8a0282-f2d4-47e9-f8df-5a5ba9c9f943"
      },
      "execution_count": null,
      "outputs": [
        {
          "output_type": "execute_result",
          "data": {
            "text/plain": [
              "tensor(1)"
            ]
          },
          "metadata": {},
          "execution_count": 81
        }
      ]
    },
    {
      "cell_type": "code",
      "source": [
        "x[:, 0]"
      ],
      "metadata": {
        "colab": {
          "base_uri": "https://localhost:8080/"
        },
        "id": "kumKfGc1O_Kj",
        "outputId": "0d44c3cb-856e-4e5a-dca1-ccc7fe9b4966"
      },
      "execution_count": null,
      "outputs": [
        {
          "output_type": "execute_result",
          "data": {
            "text/plain": [
              "tensor([[1, 2, 3]])"
            ]
          },
          "metadata": {},
          "execution_count": 82
        }
      ]
    },
    {
      "cell_type": "code",
      "source": [
        "x[:, :, 1]"
      ],
      "metadata": {
        "colab": {
          "base_uri": "https://localhost:8080/"
        },
        "id": "mBkIg1drPfz3",
        "outputId": "5d73251c-8dab-4f5c-abba-8125e634eceb"
      },
      "execution_count": null,
      "outputs": [
        {
          "output_type": "execute_result",
          "data": {
            "text/plain": [
              "tensor([[2, 5, 8]])"
            ]
          },
          "metadata": {},
          "execution_count": 83
        }
      ]
    },
    {
      "cell_type": "code",
      "source": [
        "x[:, 1, 1]"
      ],
      "metadata": {
        "colab": {
          "base_uri": "https://localhost:8080/"
        },
        "id": "LD2xa-OrPjcS",
        "outputId": "69a97b9c-d03e-4342-ec64-018a61bb4bf5"
      },
      "execution_count": null,
      "outputs": [
        {
          "output_type": "execute_result",
          "data": {
            "text/plain": [
              "tensor([5])"
            ]
          },
          "metadata": {},
          "execution_count": 84
        }
      ]
    },
    {
      "cell_type": "code",
      "source": [
        "x[0, 0, :]"
      ],
      "metadata": {
        "colab": {
          "base_uri": "https://localhost:8080/"
        },
        "id": "eI0tQ3DWPy79",
        "outputId": "db0e6435-6c37-48bb-e2d5-dedb52634499"
      },
      "execution_count": null,
      "outputs": [
        {
          "output_type": "execute_result",
          "data": {
            "text/plain": [
              "tensor([1, 2, 3])"
            ]
          },
          "metadata": {},
          "execution_count": 85
        }
      ]
    },
    {
      "cell_type": "markdown",
      "source": [
        "## PYTORCH TENSORS AND NUMPY"
      ],
      "metadata": {
        "id": "xitsDGnOP-Z2"
      }
    },
    {
      "cell_type": "code",
      "source": [
        "import numpy as np\n",
        "\n",
        "array = np.arange(1.0, 8.0)\n",
        "tensor = torch.from_numpy(array)\n",
        "array, tensor"
      ],
      "metadata": {
        "colab": {
          "base_uri": "https://localhost:8080/"
        },
        "id": "mDMlHeo4QWzJ",
        "outputId": "5e0c3619-bf9b-4e50-a124-6e1f784727a3"
      },
      "execution_count": null,
      "outputs": [
        {
          "output_type": "execute_result",
          "data": {
            "text/plain": [
              "(array([1., 2., 3., 4., 5., 6., 7.]),\n",
              " tensor([1., 2., 3., 4., 5., 6., 7.], dtype=torch.float64))"
            ]
          },
          "metadata": {},
          "execution_count": 87
        }
      ]
    },
    {
      "cell_type": "code",
      "source": [
        "array = array + 1\n",
        "array"
      ],
      "metadata": {
        "colab": {
          "base_uri": "https://localhost:8080/"
        },
        "id": "wkbD59pcR-lL",
        "outputId": "9e674e0c-156d-464f-c6f4-1e46800555aa"
      },
      "execution_count": null,
      "outputs": [
        {
          "output_type": "execute_result",
          "data": {
            "text/plain": [
              "array([2., 3., 4., 5., 6., 7., 8.])"
            ]
          },
          "metadata": {},
          "execution_count": 88
        }
      ]
    },
    {
      "cell_type": "code",
      "source": [
        "tensor = torch.ones(7)\n",
        "numpy_tensor = tensor.numpy()\n",
        "tensor, numpy_tensor"
      ],
      "metadata": {
        "colab": {
          "base_uri": "https://localhost:8080/"
        },
        "id": "eiULRmGHSiwG",
        "outputId": "83cf2eb0-f860-46bd-8105-d18dd612fdb2"
      },
      "execution_count": null,
      "outputs": [
        {
          "output_type": "execute_result",
          "data": {
            "text/plain": [
              "(tensor([1., 1., 1., 1., 1., 1., 1.]),\n",
              " array([1., 1., 1., 1., 1., 1., 1.], dtype=float32))"
            ]
          },
          "metadata": {},
          "execution_count": 89
        }
      ]
    },
    {
      "cell_type": "code",
      "source": [
        "tensor = tensor + 1\n",
        "tensor, numpy_tensor"
      ],
      "metadata": {
        "colab": {
          "base_uri": "https://localhost:8080/"
        },
        "id": "v7m2HzJWSus-",
        "outputId": "abdba012-2785-4a94-d39c-94141f7c6df3"
      },
      "execution_count": null,
      "outputs": [
        {
          "output_type": "execute_result",
          "data": {
            "text/plain": [
              "(tensor([4., 4., 4., 4., 4., 4., 4.]),\n",
              " array([1., 1., 1., 1., 1., 1., 1.], dtype=float32))"
            ]
          },
          "metadata": {},
          "execution_count": 92
        }
      ]
    },
    {
      "cell_type": "markdown",
      "source": [
        "## REPRODUCIBILITY"
      ],
      "metadata": {
        "id": "cfn6-GZYTroW"
      }
    },
    {
      "cell_type": "code",
      "source": [
        "import torch\n",
        "import numpy as np\n",
        "import pandas as pd\n",
        "import matplotlib.pyplot as plt"
      ],
      "metadata": {
        "id": "ol61QvsqT3m0"
      },
      "execution_count": null,
      "outputs": []
    },
    {
      "cell_type": "code",
      "source": [
        "random_tensor_A = torch.rand(3, 4)\n",
        "random_tensor_B = torch.rand(3, 4)\n",
        "\n",
        "print(random_tensor_A)\n",
        "print('\\n')\n",
        "print(random_tensor_B)\n",
        "print('\\n')\n",
        "print(random_tensor_A == random_tensor_B)"
      ],
      "metadata": {
        "colab": {
          "base_uri": "https://localhost:8080/"
        },
        "id": "j6YvbwiwOmSw",
        "outputId": "079dbc13-708a-415a-9947-6fcbab28dd2f"
      },
      "execution_count": null,
      "outputs": [
        {
          "output_type": "stream",
          "name": "stdout",
          "text": [
            "tensor([[0.5050, 0.3656, 0.0575, 0.3838],\n",
            "        [0.6474, 0.3239, 0.7755, 0.9180],\n",
            "        [0.5806, 0.1670, 0.3012, 0.1842]])\n",
            "\n",
            "\n",
            "tensor([[0.2590, 0.8193, 0.4376, 0.4029],\n",
            "        [0.2533, 0.1577, 0.3167, 0.9425],\n",
            "        [0.9289, 0.8283, 0.9979, 0.3746]])\n",
            "\n",
            "\n",
            "tensor([[False, False, False, False],\n",
            "        [False, False, False, False],\n",
            "        [False, False, False, False]])\n"
          ]
        }
      ]
    },
    {
      "cell_type": "code",
      "source": [
        "# Random Seed\n",
        "\n",
        "torch.manual_seed(7)\n",
        "random_tensor_C = torch.rand(3, 4)\n",
        "\n",
        "torch.manual_seed(7)\n",
        "random_tensor_D = torch.rand(3, 4)\n",
        "\n",
        "print(random_tensor_C)\n",
        "print('\\n')\n",
        "print(random_tensor_D)\n",
        "print('\\n')\n",
        "print(random_tensor_C == random_tensor_D)"
      ],
      "metadata": {
        "colab": {
          "base_uri": "https://localhost:8080/"
        },
        "id": "4sgGmnlvPUGB",
        "outputId": "e764e06c-9861-46b7-efd5-5fd98cb05858"
      },
      "execution_count": null,
      "outputs": [
        {
          "output_type": "stream",
          "name": "stdout",
          "text": [
            "tensor([[0.5349, 0.1988, 0.6592, 0.6569],\n",
            "        [0.2328, 0.4251, 0.2071, 0.6297],\n",
            "        [0.3653, 0.8513, 0.8549, 0.5509]])\n",
            "\n",
            "\n",
            "tensor([[0.5349, 0.1988, 0.6592, 0.6569],\n",
            "        [0.2328, 0.4251, 0.2071, 0.6297],\n",
            "        [0.3653, 0.8513, 0.8549, 0.5509]])\n",
            "\n",
            "\n",
            "tensor([[True, True, True, True],\n",
            "        [True, True, True, True],\n",
            "        [True, True, True, True]])\n"
          ]
        }
      ]
    },
    {
      "cell_type": "code",
      "source": [],
      "metadata": {
        "id": "b6taCEd5P8Ir"
      },
      "execution_count": null,
      "outputs": []
    }
  ]
}